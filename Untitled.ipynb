{
 "cells": [
  {
   "cell_type": "code",
   "execution_count": 1,
   "id": "3cbde567",
   "metadata": {
    "ExecuteTime": {
     "end_time": "2021-05-24T06:16:06.433600Z",
     "start_time": "2021-05-24T06:16:06.428602Z"
    }
   },
   "outputs": [
    {
     "name": "stdout",
     "output_type": "stream",
     "text": [
      "Hello world\n"
     ]
    }
   ],
   "source": [
    "print(\"Hello world\")"
   ]
  },
  {
   "cell_type": "code",
   "execution_count": 2,
   "id": "c7f4e8fa",
   "metadata": {
    "ExecuteTime": {
     "end_time": "2021-05-24T07:55:26.226212Z",
     "start_time": "2021-05-24T07:55:26.222230Z"
    }
   },
   "outputs": [
    {
     "name": "stdout",
     "output_type": "stream",
     "text": [
      "이름 : 홍길동\n"
     ]
    }
   ],
   "source": [
    "name = \"홍길동\"\n",
    "print(\"이름 :\", name)"
   ]
  },
  {
   "cell_type": "code",
   "execution_count": 3,
   "id": "f85cb844",
   "metadata": {
    "ExecuteTime": {
     "end_time": "2021-05-24T07:56:08.284324Z",
     "start_time": "2021-05-24T07:56:08.279327Z"
    }
   },
   "outputs": [
    {
     "ename": "SyntaxError",
     "evalue": "invalid syntax (<ipython-input-3-d88141e6da51>, line 3)",
     "output_type": "error",
     "traceback": [
      "\u001b[1;36m  File \u001b[1;32m\"<ipython-input-3-d88141e6da51>\"\u001b[1;36m, line \u001b[1;32m3\u001b[0m\n\u001b[1;33m    print(f '이름 : [name]')\u001b[0m\n\u001b[1;37m                        ^\u001b[0m\n\u001b[1;31mSyntaxError\u001b[0m\u001b[1;31m:\u001b[0m invalid syntax\n"
     ]
    }
   ],
   "source": [
    "name = \"홍길동\"\n",
    "print(\"이름 :\", name)\n",
    "print(f '이름 : [name]')"
   ]
  },
  {
   "cell_type": "code",
   "execution_count": 4,
   "id": "147edf3d",
   "metadata": {
    "ExecuteTime": {
     "end_time": "2021-05-24T07:58:00.835034Z",
     "start_time": "2021-05-24T07:58:00.831048Z"
    }
   },
   "outputs": [],
   "source": [
    "# 주석처리됨"
   ]
  },
  {
   "cell_type": "code",
   "execution_count": 5,
   "id": "89e7215f",
   "metadata": {
    "ExecuteTime": {
     "end_time": "2021-05-24T07:59:08.129696Z",
     "start_time": "2021-05-24T07:59:08.124696Z"
    }
   },
   "outputs": [
    {
     "name": "stdout",
     "output_type": "stream",
     "text": [
      "사각형의 면적 : 50\n"
     ]
    }
   ],
   "source": [
    "width = 10\n",
    "height = 5\n",
    "rectangle_area = width*height\n",
    "print(\"사각형의 면적 :\", rectangle_area)"
   ]
  },
  {
   "cell_type": "code",
   "execution_count": 6,
   "id": "bb59dbcc",
   "metadata": {
    "ExecuteTime": {
     "end_time": "2021-05-24T07:59:28.888214Z",
     "start_time": "2021-05-24T07:59:28.882235Z"
    }
   },
   "outputs": [
    {
     "name": "stdout",
     "output_type": "stream",
     "text": [
      "사각형의 면적 : 50\n"
     ]
    }
   ],
   "source": [
    "# 주석처리는 실행하면 안보임\n",
    "width = 10\n",
    "height = 5\n",
    "rectangle_area = width*height\n",
    "print(\"사각형의 면적 :\", rectangle_area)"
   ]
  },
  {
   "cell_type": "code",
   "execution_count": 7,
   "id": "ba0f1520",
   "metadata": {
    "ExecuteTime": {
     "end_time": "2021-05-24T08:09:52.962752Z",
     "start_time": "2021-05-24T08:09:52.851816Z"
    }
   },
   "outputs": [
    {
     "ename": "NameError",
     "evalue": "name 'kwlist' is not defined",
     "output_type": "error",
     "traceback": [
      "\u001b[1;31m---------------------------------------------------------------------------\u001b[0m",
      "\u001b[1;31mNameError\u001b[0m                                 Traceback (most recent call last)",
      "\u001b[1;32m<ipython-input-7-2b9cbb18ed27>\u001b[0m in \u001b[0;36m<module>\u001b[1;34m\u001b[0m\n\u001b[0;32m      1\u001b[0m \u001b[1;32mimport\u001b[0m \u001b[0mkeyword\u001b[0m\u001b[1;33m\u001b[0m\u001b[1;33m\u001b[0m\u001b[0m\n\u001b[1;32m----> 2\u001b[1;33m \u001b[0mprint\u001b[0m\u001b[1;33m(\u001b[0m\u001b[0mkeyword\u001b[0m\u001b[1;33m,\u001b[0m \u001b[0mkwlist\u001b[0m\u001b[1;33m)\u001b[0m\u001b[1;33m\u001b[0m\u001b[1;33m\u001b[0m\u001b[0m\n\u001b[0m",
      "\u001b[1;31mNameError\u001b[0m: name 'kwlist' is not defined"
     ]
    }
   ],
   "source": [
    "import keyword\n",
    "print(keyword, kwlist)"
   ]
  },
  {
   "cell_type": "code",
   "execution_count": 9,
   "id": "a93a21ac",
   "metadata": {
    "ExecuteTime": {
     "end_time": "2021-05-24T08:11:19.573403Z",
     "start_time": "2021-05-24T08:11:19.563410Z"
    }
   },
   "outputs": [
    {
     "ename": "NameError",
     "evalue": "name 'kwlist' is not defined",
     "output_type": "error",
     "traceback": [
      "\u001b[1;31m---------------------------------------------------------------------------\u001b[0m",
      "\u001b[1;31mNameError\u001b[0m                                 Traceback (most recent call last)",
      "\u001b[1;32m<ipython-input-9-cc4571f3a000>\u001b[0m in \u001b[0;36m<module>\u001b[1;34m\u001b[0m\n\u001b[0;32m      1\u001b[0m \u001b[1;32mimport\u001b[0m \u001b[0mkeyword\u001b[0m\u001b[1;33m\u001b[0m\u001b[1;33m\u001b[0m\u001b[0m\n\u001b[1;32m----> 2\u001b[1;33m \u001b[0mprint\u001b[0m\u001b[1;33m(\u001b[0m\u001b[0mkeyword\u001b[0m\u001b[1;33m,\u001b[0m\u001b[0mkwlist\u001b[0m\u001b[1;33m)\u001b[0m\u001b[1;33m\u001b[0m\u001b[1;33m\u001b[0m\u001b[0m\n\u001b[0m",
      "\u001b[1;31mNameError\u001b[0m: name 'kwlist' is not defined"
     ]
    }
   ],
   "source": [
    "import keyword\n",
    "print(keyword,kwlist)"
   ]
  },
  {
   "cell_type": "code",
   "execution_count": 10,
   "id": "6f5778c6",
   "metadata": {
    "ExecuteTime": {
     "end_time": "2021-05-24T08:13:02.388474Z",
     "start_time": "2021-05-24T08:13:02.383476Z"
    }
   },
   "outputs": [
    {
     "name": "stdout",
     "output_type": "stream",
     "text": [
      "안녕! 나는 홍길동 이야. 나는 나이가 27 살이야\n"
     ]
    }
   ],
   "source": [
    "name = '홍길동'\n",
    "age = 27\n",
    "print('안녕! 나는',name,'이야. 나는 나이가',age,'살이야')"
   ]
  },
  {
   "cell_type": "code",
   "execution_count": null,
   "id": "63482b4f",
   "metadata": {},
   "outputs": [],
   "source": []
  },
  {
   "cell_type": "code",
   "execution_count": 11,
   "id": "2ff7038b",
   "metadata": {
    "ExecuteTime": {
     "end_time": "2021-05-24T08:13:10.832988Z",
     "start_time": "2021-05-24T08:13:10.825992Z"
    }
   },
   "outputs": [
    {
     "name": "stdout",
     "output_type": "stream",
     "text": [
      "안녕! 나는 홍길동 이야. 나는 나이가 27 살이야\n"
     ]
    }
   ],
   "source": [
    "name = '홍길동'\n",
    "age = 27\n",
    "print('안녕! 나는',name,'이야. 나는 나이가',age,'살이야')"
   ]
  },
  {
   "cell_type": "code",
   "execution_count": 12,
   "id": "9c3d250d",
   "metadata": {
    "ExecuteTime": {
     "end_time": "2021-05-24T08:13:47.650796Z",
     "start_time": "2021-05-24T08:13:47.644810Z"
    }
   },
   "outputs": [
    {
     "name": "stdout",
     "output_type": "stream",
     "text": [
      "안녕! 나는 홍길동 이야. 나는 나이가 27 살이야\n",
      "안녕! 나는 홍길순 이야. 나는 나이가 23 살이야\n"
     ]
    }
   ],
   "source": [
    "name = '홍길동'\n",
    "age = 27\n",
    "print('안녕! 나는',name,'이야. 나는 나이가',age,'살이야')\n",
    "name = '홍길순'\n",
    "age = 23\n",
    "print('안녕! 나는',name,'이야. 나는 나이가',age,'살이야')\n"
   ]
  },
  {
   "cell_type": "code",
   "execution_count": 13,
   "id": "3091f9fc",
   "metadata": {
    "ExecuteTime": {
     "end_time": "2021-05-24T08:27:51.435380Z",
     "start_time": "2021-05-24T08:27:51.430367Z"
    }
   },
   "outputs": [
    {
     "name": "stdout",
     "output_type": "stream",
     "text": [
      "안녕! 나는 홍길동 이야. 나는 나이가 27 살이야\n",
      "안녕! 나는 홍길순 이야. 나는 나이가 23 살이야\n"
     ]
    }
   ],
   "source": [
    "name = '홍길동'\n",
    "age = 27\n",
    "print('안녕! 나는',name,'이야. 나는 나이가',age,'살이야')\n",
    "name = '홍길순'\n",
    "age = 23\n",
    "print('안녕! 나는',name,'이야. 나는 나이가',age,'살이야')\n"
   ]
  },
  {
   "cell_type": "code",
   "execution_count": 14,
   "id": "d473a497",
   "metadata": {
    "ExecuteTime": {
     "end_time": "2021-05-24T08:27:54.684753Z",
     "start_time": "2021-05-24T08:27:54.670744Z"
    }
   },
   "outputs": [
    {
     "data": {
      "text/plain": [
       "14"
      ]
     },
     "execution_count": 14,
     "metadata": {},
     "output_type": "execute_result"
    }
   ],
   "source": [
    "4+10"
   ]
  },
  {
   "cell_type": "code",
   "execution_count": 15,
   "id": "cb95c892",
   "metadata": {
    "ExecuteTime": {
     "end_time": "2021-05-24T08:27:57.783508Z",
     "start_time": "2021-05-24T08:27:57.778546Z"
    }
   },
   "outputs": [
    {
     "data": {
      "text/plain": [
       "-6"
      ]
     },
     "execution_count": 15,
     "metadata": {},
     "output_type": "execute_result"
    }
   ],
   "source": [
    "4-10"
   ]
  },
  {
   "cell_type": "code",
   "execution_count": 16,
   "id": "03608158",
   "metadata": {
    "ExecuteTime": {
     "end_time": "2021-05-24T08:28:05.362711Z",
     "start_time": "2021-05-24T08:28:05.357717Z"
    }
   },
   "outputs": [
    {
     "data": {
      "text/plain": [
       "40"
      ]
     },
     "execution_count": 16,
     "metadata": {},
     "output_type": "execute_result"
    }
   ],
   "source": [
    "4*10"
   ]
  },
  {
   "cell_type": "code",
   "execution_count": 17,
   "id": "21c1d51d",
   "metadata": {
    "ExecuteTime": {
     "end_time": "2021-05-24T08:28:15.473430Z",
     "start_time": "2021-05-24T08:28:15.468433Z"
    }
   },
   "outputs": [
    {
     "data": {
      "text/plain": [
       "16"
      ]
     },
     "execution_count": 17,
     "metadata": {},
     "output_type": "execute_result"
    }
   ],
   "source": [
    "4**2"
   ]
  },
  {
   "cell_type": "code",
   "execution_count": 18,
   "id": "a91a0f8e",
   "metadata": {
    "ExecuteTime": {
     "end_time": "2021-05-24T08:28:27.284116Z",
     "start_time": "2021-05-24T08:28:27.280113Z"
    }
   },
   "outputs": [
    {
     "data": {
      "text/plain": [
       "2.0"
      ]
     },
     "execution_count": 18,
     "metadata": {},
     "output_type": "execute_result"
    }
   ],
   "source": [
    "4**0.5"
   ]
  },
  {
   "cell_type": "code",
   "execution_count": 19,
   "id": "35ce6233",
   "metadata": {
    "ExecuteTime": {
     "end_time": "2021-05-24T08:28:31.447449Z",
     "start_time": "2021-05-24T08:28:31.442467Z"
    }
   },
   "outputs": [
    {
     "data": {
      "text/plain": [
       "0.6"
      ]
     },
     "execution_count": 19,
     "metadata": {},
     "output_type": "execute_result"
    }
   ],
   "source": [
    "3/5"
   ]
  },
  {
   "cell_type": "code",
   "execution_count": 20,
   "id": "c4fe6eee",
   "metadata": {
    "ExecuteTime": {
     "end_time": "2021-05-24T08:28:34.247302Z",
     "start_time": "2021-05-24T08:28:34.241309Z"
    }
   },
   "outputs": [
    {
     "data": {
      "text/plain": [
       "0.8"
      ]
     },
     "execution_count": 20,
     "metadata": {},
     "output_type": "execute_result"
    }
   ],
   "source": [
    "4/5"
   ]
  },
  {
   "cell_type": "code",
   "execution_count": 21,
   "id": "717d1741",
   "metadata": {
    "ExecuteTime": {
     "end_time": "2021-05-24T08:28:37.086056Z",
     "start_time": "2021-05-24T08:28:37.081045Z"
    }
   },
   "outputs": [
    {
     "data": {
      "text/plain": [
       "0.6"
      ]
     },
     "execution_count": 21,
     "metadata": {},
     "output_type": "execute_result"
    }
   ],
   "source": [
    "3/5"
   ]
  },
  {
   "cell_type": "code",
   "execution_count": 22,
   "id": "f57135e7",
   "metadata": {
    "ExecuteTime": {
     "end_time": "2021-05-24T08:28:42.236290Z",
     "start_time": "2021-05-24T08:28:42.230294Z"
    }
   },
   "outputs": [
    {
     "data": {
      "text/plain": [
       "1"
      ]
     },
     "execution_count": 22,
     "metadata": {},
     "output_type": "execute_result"
    }
   ],
   "source": [
    "10%9"
   ]
  },
  {
   "cell_type": "code",
   "execution_count": 23,
   "id": "80b928f7",
   "metadata": {
    "ExecuteTime": {
     "end_time": "2021-05-24T08:28:58.722835Z",
     "start_time": "2021-05-24T08:28:58.715842Z"
    }
   },
   "outputs": [
    {
     "data": {
      "text/plain": [
       "1"
      ]
     },
     "execution_count": 23,
     "metadata": {},
     "output_type": "execute_result"
    }
   ],
   "source": [
    "10//9"
   ]
  },
  {
   "cell_type": "code",
   "execution_count": 24,
   "id": "966ae635",
   "metadata": {
    "ExecuteTime": {
     "end_time": "2021-05-24T08:29:08.560438Z",
     "start_time": "2021-05-24T08:29:08.555457Z"
    }
   },
   "outputs": [
    {
     "data": {
      "text/plain": [
       "2"
      ]
     },
     "execution_count": 24,
     "metadata": {},
     "output_type": "execute_result"
    }
   ],
   "source": [
    "20//9"
   ]
  },
  {
   "cell_type": "code",
   "execution_count": 25,
   "id": "439670fb",
   "metadata": {
    "ExecuteTime": {
     "end_time": "2021-05-24T08:29:16.357612Z",
     "start_time": "2021-05-24T08:29:16.352616Z"
    }
   },
   "outputs": [
    {
     "data": {
      "text/plain": [
       "2.2222222222222223"
      ]
     },
     "execution_count": 25,
     "metadata": {},
     "output_type": "execute_result"
    }
   ],
   "source": [
    "20/9"
   ]
  },
  {
   "cell_type": "code",
   "execution_count": 26,
   "id": "d12fa615",
   "metadata": {
    "ExecuteTime": {
     "end_time": "2021-05-24T08:29:40.959824Z",
     "start_time": "2021-05-24T08:29:40.953844Z"
    }
   },
   "outputs": [
    {
     "data": {
      "text/plain": [
       "3.4444444444444446"
      ]
     },
     "execution_count": 26,
     "metadata": {},
     "output_type": "execute_result"
    }
   ],
   "source": [
    "31/9"
   ]
  },
  {
   "cell_type": "code",
   "execution_count": 27,
   "id": "38126950",
   "metadata": {
    "ExecuteTime": {
     "end_time": "2021-05-24T08:29:44.371289Z",
     "start_time": "2021-05-24T08:29:44.364279Z"
    }
   },
   "outputs": [
    {
     "data": {
      "text/plain": [
       "4.555555555555555"
      ]
     },
     "execution_count": 27,
     "metadata": {},
     "output_type": "execute_result"
    }
   ],
   "source": [
    "41/9"
   ]
  },
  {
   "cell_type": "code",
   "execution_count": 28,
   "id": "27436533",
   "metadata": {
    "ExecuteTime": {
     "end_time": "2021-05-24T08:29:48.567346Z",
     "start_time": "2021-05-24T08:29:48.562349Z"
    }
   },
   "outputs": [
    {
     "data": {
      "text/plain": [
       "4"
      ]
     },
     "execution_count": 28,
     "metadata": {},
     "output_type": "execute_result"
    }
   ],
   "source": [
    "41//9"
   ]
  },
  {
   "cell_type": "code",
   "execution_count": 29,
   "id": "fefe3c6b",
   "metadata": {
    "ExecuteTime": {
     "end_time": "2021-05-24T08:30:01.506015Z",
     "start_time": "2021-05-24T08:30:01.500020Z"
    }
   },
   "outputs": [
    {
     "data": {
      "text/plain": [
       "0"
      ]
     },
     "execution_count": 29,
     "metadata": {},
     "output_type": "execute_result"
    }
   ],
   "source": [
    "3>>2"
   ]
  },
  {
   "cell_type": "code",
   "execution_count": 30,
   "id": "9c90cdf3",
   "metadata": {
    "ExecuteTime": {
     "end_time": "2021-05-24T08:30:07.822309Z",
     "start_time": "2021-05-24T08:30:07.817312Z"
    }
   },
   "outputs": [
    {
     "data": {
      "text/plain": [
       "12"
      ]
     },
     "execution_count": 30,
     "metadata": {},
     "output_type": "execute_result"
    }
   ],
   "source": [
    "3<<2"
   ]
  },
  {
   "cell_type": "code",
   "execution_count": 31,
   "id": "d3f88f12",
   "metadata": {
    "ExecuteTime": {
     "end_time": "2021-05-24T08:31:27.685890Z",
     "start_time": "2021-05-24T08:31:27.680894Z"
    }
   },
   "outputs": [
    {
     "data": {
      "text/plain": [
       "1.4142135623730951"
      ]
     },
     "execution_count": 31,
     "metadata": {},
     "output_type": "execute_result"
    }
   ],
   "source": [
    "2**0.5"
   ]
  },
  {
   "cell_type": "code",
   "execution_count": 32,
   "id": "2875b8d2",
   "metadata": {
    "ExecuteTime": {
     "end_time": "2021-05-24T08:31:33.025197Z",
     "start_time": "2021-05-24T08:31:33.020216Z"
    }
   },
   "outputs": [
    {
     "data": {
      "text/plain": [
       "1.7320508075688772"
      ]
     },
     "execution_count": 32,
     "metadata": {},
     "output_type": "execute_result"
    }
   ],
   "source": [
    "3**0.5"
   ]
  },
  {
   "cell_type": "code",
   "execution_count": 33,
   "id": "916cc025",
   "metadata": {
    "ExecuteTime": {
     "end_time": "2021-05-24T08:34:13.720093Z",
     "start_time": "2021-05-24T08:34:13.715096Z"
    }
   },
   "outputs": [
    {
     "data": {
      "text/plain": [
       "8.0"
      ]
     },
     "execution_count": 33,
     "metadata": {},
     "output_type": "execute_result"
    }
   ],
   "source": [
    "5+3.0"
   ]
  },
  {
   "cell_type": "code",
   "execution_count": 34,
   "id": "7e57be20",
   "metadata": {
    "ExecuteTime": {
     "end_time": "2021-05-24T08:34:17.635970Z",
     "start_time": "2021-05-24T08:34:17.630958Z"
    }
   },
   "outputs": [
    {
     "data": {
      "text/plain": [
       "8.5"
      ]
     },
     "execution_count": 34,
     "metadata": {},
     "output_type": "execute_result"
    }
   ],
   "source": [
    "5+3.5"
   ]
  },
  {
   "cell_type": "code",
   "execution_count": 35,
   "id": "c7a7e190",
   "metadata": {
    "ExecuteTime": {
     "end_time": "2021-05-24T08:34:22.450234Z",
     "start_time": "2021-05-24T08:34:22.444578Z"
    }
   },
   "outputs": [
    {
     "data": {
      "text/plain": [
       "9.0"
      ]
     },
     "execution_count": 35,
     "metadata": {},
     "output_type": "execute_result"
    }
   ],
   "source": [
    "5+4.00"
   ]
  },
  {
   "cell_type": "code",
   "execution_count": 36,
   "id": "cc8bd7c2",
   "metadata": {
    "ExecuteTime": {
     "end_time": "2021-05-24T08:34:27.010896Z",
     "start_time": "2021-05-24T08:34:27.004899Z"
    }
   },
   "outputs": [
    {
     "data": {
      "text/plain": [
       "9.15"
      ]
     },
     "execution_count": 36,
     "metadata": {},
     "output_type": "execute_result"
    }
   ],
   "source": [
    "5+4.15"
   ]
  },
  {
   "cell_type": "code",
   "execution_count": 37,
   "id": "e90990ca",
   "metadata": {
    "ExecuteTime": {
     "end_time": "2021-05-24T08:34:31.145648Z",
     "start_time": "2021-05-24T08:34:31.140636Z"
    }
   },
   "outputs": [
    {
     "data": {
      "text/plain": [
       "11.11"
      ]
     },
     "execution_count": 37,
     "metadata": {},
     "output_type": "execute_result"
    }
   ],
   "source": [
    "5+6.11"
   ]
  },
  {
   "cell_type": "code",
   "execution_count": 38,
   "id": "e8374784",
   "metadata": {
    "ExecuteTime": {
     "end_time": "2021-05-24T08:34:40.224728Z",
     "start_time": "2021-05-24T08:34:40.218750Z"
    }
   },
   "outputs": [
    {
     "data": {
      "text/plain": [
       "5.85"
      ]
     },
     "execution_count": 38,
     "metadata": {},
     "output_type": "execute_result"
    }
   ],
   "source": [
    "7-1.15"
   ]
  },
  {
   "cell_type": "code",
   "execution_count": null,
   "id": "2c93b48a",
   "metadata": {},
   "outputs": [],
   "source": [
    "7+"
   ]
  }
 ],
 "metadata": {
  "hide_input": false,
  "kernelspec": {
   "display_name": "Python 3",
   "language": "python",
   "name": "python3"
  },
  "language_info": {
   "codemirror_mode": {
    "name": "ipython",
    "version": 3
   },
   "file_extension": ".py",
   "mimetype": "text/x-python",
   "name": "python",
   "nbconvert_exporter": "python",
   "pygments_lexer": "ipython3",
   "version": "3.7.9"
  },
  "toc": {
   "base_numbering": 1,
   "nav_menu": {},
   "number_sections": true,
   "sideBar": true,
   "skip_h1_title": false,
   "title_cell": "Table of Contents",
   "title_sidebar": "Contents",
   "toc_cell": false,
   "toc_position": {},
   "toc_section_display": true,
   "toc_window_display": false
  },
  "varInspector": {
   "cols": {
    "lenName": 16,
    "lenType": 16,
    "lenVar": 40
   },
   "kernels_config": {
    "python": {
     "delete_cmd_postfix": "",
     "delete_cmd_prefix": "del ",
     "library": "var_list.py",
     "varRefreshCmd": "print(var_dic_list())"
    },
    "r": {
     "delete_cmd_postfix": ") ",
     "delete_cmd_prefix": "rm(",
     "library": "var_list.r",
     "varRefreshCmd": "cat(var_dic_list()) "
    }
   },
   "types_to_exclude": [
    "module",
    "function",
    "builtin_function_or_method",
    "instance",
    "_Feature"
   ],
   "window_display": false
  }
 },
 "nbformat": 4,
 "nbformat_minor": 5
}
