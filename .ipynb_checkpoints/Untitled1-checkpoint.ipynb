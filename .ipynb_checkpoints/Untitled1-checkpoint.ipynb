{
 "cells": [
  {
   "cell_type": "code",
   "execution_count": 1,
   "id": "0a611d98",
   "metadata": {
    "ExecuteTime": {
     "end_time": "2021-05-25T00:37:57.427053Z",
     "start_time": "2021-05-25T00:37:57.424070Z"
    }
   },
   "outputs": [],
   "source": [
    "a = True\n",
    "b = False"
   ]
  },
  {
   "cell_type": "code",
   "execution_count": 2,
   "id": "a198e849",
   "metadata": {
    "ExecuteTime": {
     "end_time": "2021-05-25T00:38:32.693545Z",
     "start_time": "2021-05-25T00:38:32.689564Z"
    }
   },
   "outputs": [
    {
     "name": "stdout",
     "output_type": "stream",
     "text": [
      "<class 'bool'>\n"
     ]
    }
   ],
   "source": [
    "print(type(a))"
   ]
  },
  {
   "cell_type": "code",
   "execution_count": 3,
   "id": "bb8fd581",
   "metadata": {
    "ExecuteTime": {
     "end_time": "2021-05-25T00:38:48.484586Z",
     "start_time": "2021-05-25T00:38:48.479591Z"
    }
   },
   "outputs": [
    {
     "name": "stdout",
     "output_type": "stream",
     "text": [
      "<class 'bool'>\n"
     ]
    }
   ],
   "source": [
    "print(type(b))"
   ]
  },
  {
   "cell_type": "code",
   "execution_count": 4,
   "id": "66c8af7d",
   "metadata": {
    "ExecuteTime": {
     "end_time": "2021-05-25T00:39:35.781213Z",
     "start_time": "2021-05-25T00:39:35.766222Z"
    }
   },
   "outputs": [
    {
     "data": {
      "text/plain": [
       "True"
      ]
     },
     "execution_count": 4,
     "metadata": {},
     "output_type": "execute_result"
    }
   ],
   "source": [
    "1 == 1"
   ]
  },
  {
   "cell_type": "code",
   "execution_count": 5,
   "id": "1a1333ac",
   "metadata": {
    "ExecuteTime": {
     "end_time": "2021-05-25T00:39:49.914494Z",
     "start_time": "2021-05-25T00:39:49.909496Z"
    }
   },
   "outputs": [
    {
     "data": {
      "text/plain": [
       "False"
      ]
     },
     "execution_count": 5,
     "metadata": {},
     "output_type": "execute_result"
    }
   ],
   "source": [
    "1 == 2"
   ]
  },
  {
   "cell_type": "code",
   "execution_count": 6,
   "id": "752a1557",
   "metadata": {
    "ExecuteTime": {
     "end_time": "2021-05-25T00:40:13.216863Z",
     "start_time": "2021-05-25T00:40:13.210865Z"
    }
   },
   "outputs": [
    {
     "data": {
      "text/plain": [
       "False"
      ]
     },
     "execution_count": 6,
     "metadata": {},
     "output_type": "execute_result"
    }
   ],
   "source": [
    "2 < 1"
   ]
  },
  {
   "cell_type": "code",
   "execution_count": 7,
   "id": "53653f9e",
   "metadata": {
    "ExecuteTime": {
     "end_time": "2021-05-25T00:40:17.204461Z",
     "start_time": "2021-05-25T00:40:17.198464Z"
    }
   },
   "outputs": [
    {
     "data": {
      "text/plain": [
       "True"
      ]
     },
     "execution_count": 7,
     "metadata": {},
     "output_type": "execute_result"
    }
   ],
   "source": [
    "2 > 1"
   ]
  },
  {
   "cell_type": "code",
   "execution_count": 8,
   "id": "48d8047f",
   "metadata": {
    "ExecuteTime": {
     "end_time": "2021-05-25T00:41:30.946113Z",
     "start_time": "2021-05-25T00:41:30.940116Z"
    }
   },
   "outputs": [
    {
     "data": {
      "text/plain": [
       "False"
      ]
     },
     "execution_count": 8,
     "metadata": {},
     "output_type": "execute_result"
    }
   ],
   "source": [
    "2 == 1"
   ]
  },
  {
   "cell_type": "code",
   "execution_count": 9,
   "id": "b64ed058",
   "metadata": {
    "ExecuteTime": {
     "end_time": "2021-05-25T00:41:33.939929Z",
     "start_time": "2021-05-25T00:41:33.933933Z"
    }
   },
   "outputs": [
    {
     "data": {
      "text/plain": [
       "True"
      ]
     },
     "execution_count": 9,
     "metadata": {},
     "output_type": "execute_result"
    }
   ],
   "source": [
    "2 == 2"
   ]
  },
  {
   "cell_type": "code",
   "execution_count": 10,
   "id": "0a498c1f",
   "metadata": {
    "ExecuteTime": {
     "end_time": "2021-05-25T00:41:51.432384Z",
     "start_time": "2021-05-25T00:41:51.426402Z"
    }
   },
   "outputs": [
    {
     "data": {
      "text/plain": [
       "True"
      ]
     },
     "execution_count": 10,
     "metadata": {},
     "output_type": "execute_result"
    }
   ],
   "source": [
    "bool('python')"
   ]
  },
  {
   "cell_type": "code",
   "execution_count": 11,
   "id": "c08d542b",
   "metadata": {
    "ExecuteTime": {
     "end_time": "2021-05-25T00:42:03.268080Z",
     "start_time": "2021-05-25T00:42:03.262083Z"
    }
   },
   "outputs": [
    {
     "data": {
      "text/plain": [
       "False"
      ]
     },
     "execution_count": 11,
     "metadata": {},
     "output_type": "execute_result"
    }
   ],
   "source": [
    "bool('')"
   ]
  },
  {
   "cell_type": "code",
   "execution_count": 12,
   "id": "3ff13556",
   "metadata": {
    "ExecuteTime": {
     "end_time": "2021-05-25T00:42:12.213862Z",
     "start_time": "2021-05-25T00:42:12.207865Z"
    }
   },
   "outputs": [
    {
     "data": {
      "text/plain": [
       "True"
      ]
     },
     "execution_count": 12,
     "metadata": {},
     "output_type": "execute_result"
    }
   ],
   "source": [
    "bool('Sigma')"
   ]
  },
  {
   "cell_type": "code",
   "execution_count": 13,
   "id": "8229cb61",
   "metadata": {
    "ExecuteTime": {
     "end_time": "2021-05-25T00:42:26.737038Z",
     "start_time": "2021-05-25T00:42:26.649304Z"
    }
   },
   "outputs": [
    {
     "ename": "NameError",
     "evalue": "name 'BOOL' is not defined",
     "output_type": "error",
     "traceback": [
      "\u001b[1;31m---------------------------------------------------------------------------\u001b[0m",
      "\u001b[1;31mNameError\u001b[0m                                 Traceback (most recent call last)",
      "\u001b[1;32m<ipython-input-13-60638d228df2>\u001b[0m in \u001b[0;36m<module>\u001b[1;34m\u001b[0m\n\u001b[1;32m----> 1\u001b[1;33m \u001b[0mBOOL\u001b[0m\u001b[1;33m(\u001b[0m\u001b[1;34m'Sigma6'\u001b[0m\u001b[1;33m)\u001b[0m\u001b[1;33m\u001b[0m\u001b[1;33m\u001b[0m\u001b[0m\n\u001b[0m",
      "\u001b[1;31mNameError\u001b[0m: name 'BOOL' is not defined"
     ]
    }
   ],
   "source": [
    "BOOL('Sigma6')"
   ]
  },
  {
   "cell_type": "code",
   "execution_count": 14,
   "id": "a13f18f9",
   "metadata": {
    "ExecuteTime": {
     "end_time": "2021-05-25T00:42:57.149638Z",
     "start_time": "2021-05-25T00:42:57.144642Z"
    }
   },
   "outputs": [
    {
     "ename": "SyntaxError",
     "evalue": "invalid syntax (<ipython-input-14-080187d6bdba>, line 1)",
     "output_type": "error",
     "traceback": [
      "\u001b[1;36m  File \u001b[1;32m\"<ipython-input-14-080187d6bdba>\"\u001b[1;36m, line \u001b[1;32m1\u001b[0m\n\u001b[1;33m    if(\"ddd\")\u001b[0m\n\u001b[1;37m             ^\u001b[0m\n\u001b[1;31mSyntaxError\u001b[0m\u001b[1;31m:\u001b[0m invalid syntax\n"
     ]
    }
   ],
   "source": [
    "if(\"ddd\")\n",
    "print(3)\n",
    "else : \n",
    "    print(5)"
   ]
  },
  {
   "cell_type": "code",
   "execution_count": 15,
   "id": "f0065874",
   "metadata": {
    "ExecuteTime": {
     "end_time": "2021-05-25T00:43:45.067383Z",
     "start_time": "2021-05-25T00:43:45.061386Z"
    }
   },
   "outputs": [
    {
     "ename": "SyntaxError",
     "evalue": "invalid syntax (<ipython-input-15-35733949026c>, line 1)",
     "output_type": "error",
     "traceback": [
      "\u001b[1;36m  File \u001b[1;32m\"<ipython-input-15-35733949026c>\"\u001b[1;36m, line \u001b[1;32m1\u001b[0m\n\u001b[1;33m    if(\"ddd\")\u001b[0m\n\u001b[1;37m             ^\u001b[0m\n\u001b[1;31mSyntaxError\u001b[0m\u001b[1;31m:\u001b[0m invalid syntax\n"
     ]
    }
   ],
   "source": [
    "if(\"ddd\")\n",
    "print(3)\n",
    "else  \n",
    "    print(5)"
   ]
  },
  {
   "cell_type": "code",
   "execution_count": 16,
   "id": "dac18f3b",
   "metadata": {
    "ExecuteTime": {
     "end_time": "2021-05-25T00:44:10.261414Z",
     "start_time": "2021-05-25T00:44:10.255415Z"
    }
   },
   "outputs": [
    {
     "data": {
      "text/plain": [
       "False"
      ]
     },
     "execution_count": 16,
     "metadata": {},
     "output_type": "execute_result"
    }
   ],
   "source": [
    "bool(0)"
   ]
  },
  {
   "cell_type": "code",
   "execution_count": 17,
   "id": "86c28e22",
   "metadata": {
    "ExecuteTime": {
     "end_time": "2021-05-25T00:44:14.049082Z",
     "start_time": "2021-05-25T00:44:14.043086Z"
    }
   },
   "outputs": [
    {
     "data": {
      "text/plain": [
       "True"
      ]
     },
     "execution_count": 17,
     "metadata": {},
     "output_type": "execute_result"
    }
   ],
   "source": [
    "bool(1)"
   ]
  },
  {
   "cell_type": "code",
   "execution_count": 18,
   "id": "82459b60",
   "metadata": {
    "ExecuteTime": {
     "end_time": "2021-05-25T00:44:17.333151Z",
     "start_time": "2021-05-25T00:44:17.327157Z"
    }
   },
   "outputs": [
    {
     "data": {
      "text/plain": [
       "True"
      ]
     },
     "execution_count": 18,
     "metadata": {},
     "output_type": "execute_result"
    }
   ],
   "source": [
    "bool(3)"
   ]
  },
  {
   "cell_type": "code",
   "execution_count": 19,
   "id": "869c77c2",
   "metadata": {
    "ExecuteTime": {
     "end_time": "2021-05-25T00:44:20.195857Z",
     "start_time": "2021-05-25T00:44:20.189860Z"
    }
   },
   "outputs": [
    {
     "data": {
      "text/plain": [
       "True"
      ]
     },
     "execution_count": 19,
     "metadata": {},
     "output_type": "execute_result"
    }
   ],
   "source": [
    "bool(4)"
   ]
  },
  {
   "cell_type": "code",
   "execution_count": 20,
   "id": "aca53dcd",
   "metadata": {
    "ExecuteTime": {
     "end_time": "2021-05-25T00:44:25.762774Z",
     "start_time": "2021-05-25T00:44:25.756788Z"
    }
   },
   "outputs": [
    {
     "data": {
      "text/plain": [
       "True"
      ]
     },
     "execution_count": 20,
     "metadata": {},
     "output_type": "execute_result"
    }
   ],
   "source": [
    "bool(-1)"
   ]
  },
  {
   "cell_type": "code",
   "execution_count": 21,
   "id": "167bbbcf",
   "metadata": {
    "ExecuteTime": {
     "end_time": "2021-05-25T00:44:32.646929Z",
     "start_time": "2021-05-25T00:44:32.640937Z"
    }
   },
   "outputs": [
    {
     "data": {
      "text/plain": [
       "True"
      ]
     },
     "execution_count": 21,
     "metadata": {},
     "output_type": "execute_result"
    }
   ],
   "source": [
    "bool(1000000)"
   ]
  },
  {
   "cell_type": "code",
   "execution_count": 22,
   "id": "d2c9d7e5",
   "metadata": {
    "ExecuteTime": {
     "end_time": "2021-05-25T00:44:39.150928Z",
     "start_time": "2021-05-25T00:44:39.145916Z"
    }
   },
   "outputs": [
    {
     "data": {
      "text/plain": [
       "True"
      ]
     },
     "execution_count": 22,
     "metadata": {},
     "output_type": "execute_result"
    }
   ],
   "source": [
    "bool(-123218)"
   ]
  },
  {
   "cell_type": "code",
   "execution_count": 24,
   "id": "aeaf1b50",
   "metadata": {
    "ExecuteTime": {
     "end_time": "2021-05-25T00:45:05.024074Z",
     "start_time": "2021-05-25T00:45:05.014098Z"
    }
   },
   "outputs": [
    {
     "ename": "NameError",
     "evalue": "name 'boll' is not defined",
     "output_type": "error",
     "traceback": [
      "\u001b[1;31m---------------------------------------------------------------------------\u001b[0m",
      "\u001b[1;31mNameError\u001b[0m                                 Traceback (most recent call last)",
      "\u001b[1;32m<ipython-input-24-47a73c45c7a0>\u001b[0m in \u001b[0;36m<module>\u001b[1;34m\u001b[0m\n\u001b[1;32m----> 1\u001b[1;33m \u001b[0mboll\u001b[0m\u001b[1;33m(\u001b[0m\u001b[0mnone\u001b[0m\u001b[1;33m)\u001b[0m\u001b[1;33m\u001b[0m\u001b[1;33m\u001b[0m\u001b[0m\n\u001b[0m",
      "\u001b[1;31mNameError\u001b[0m: name 'boll' is not defined"
     ]
    }
   ],
   "source": [
    "boll(none)"
   ]
  },
  {
   "cell_type": "code",
   "execution_count": 26,
   "id": "f6140e95",
   "metadata": {
    "ExecuteTime": {
     "end_time": "2021-05-25T00:46:00.617900Z",
     "start_time": "2021-05-25T00:46:00.611901Z"
    }
   },
   "outputs": [
    {
     "data": {
      "text/plain": [
       "float"
      ]
     },
     "execution_count": 26,
     "metadata": {},
     "output_type": "execute_result"
    }
   ],
   "source": [
    "pi = 3.141592\n",
    "type(pi)"
   ]
  },
  {
   "cell_type": "code",
   "execution_count": 27,
   "id": "d23816ae",
   "metadata": {
    "ExecuteTime": {
     "end_time": "2021-05-25T00:46:23.501709Z",
     "start_time": "2021-05-25T00:46:23.496724Z"
    }
   },
   "outputs": [
    {
     "data": {
      "text/plain": [
       "str"
      ]
     },
     "execution_count": 27,
     "metadata": {},
     "output_type": "execute_result"
    }
   ],
   "source": [
    "message = \"Good Morning\"\n",
    "type(message)"
   ]
  },
  {
   "cell_type": "code",
   "execution_count": 28,
   "id": "62db3f8c",
   "metadata": {
    "ExecuteTime": {
     "end_time": "2021-05-25T02:47:57.408627Z",
     "start_time": "2021-05-25T02:47:57.402546Z"
    }
   },
   "outputs": [
    {
     "data": {
      "text/plain": [
       "<function print>"
      ]
     },
     "execution_count": 28,
     "metadata": {},
     "output_type": "execute_result"
    }
   ],
   "source": [
    "num = 100\n",
    "print\n"
   ]
  },
  {
   "cell_type": "code",
   "execution_count": 29,
   "id": "53427ebc",
   "metadata": {
    "ExecuteTime": {
     "end_time": "2021-05-25T02:49:11.546219Z",
     "start_time": "2021-05-25T02:49:11.535239Z"
    }
   },
   "outputs": [
    {
     "ename": "NameError",
     "evalue": "name 'n' is not defined",
     "output_type": "error",
     "traceback": [
      "\u001b[1;31m---------------------------------------------------------------------------\u001b[0m",
      "\u001b[1;31mNameError\u001b[0m                                 Traceback (most recent call last)",
      "\u001b[1;32m<ipython-input-29-195d698c1512>\u001b[0m in \u001b[0;36m<module>\u001b[1;34m\u001b[0m\n\u001b[0;32m      1\u001b[0m \u001b[0ms\u001b[0m \u001b[1;33m=\u001b[0m \u001b[1;36m0\u001b[0m\u001b[1;33m\u001b[0m\u001b[1;33m\u001b[0m\u001b[0m\n\u001b[0;32m      2\u001b[0m \u001b[0mi\u001b[0m \u001b[1;33m=\u001b[0m \u001b[1;36m1\u001b[0m\u001b[1;33m\u001b[0m\u001b[1;33m\u001b[0m\u001b[0m\n\u001b[1;32m----> 3\u001b[1;33m \u001b[1;32mwhile\u001b[0m \u001b[0mi\u001b[0m \u001b[1;33m<=\u001b[0m \u001b[0mn\u001b[0m\u001b[1;33m:\u001b[0m\u001b[1;33m\u001b[0m\u001b[1;33m\u001b[0m\u001b[0m\n\u001b[0m\u001b[0;32m      4\u001b[0m     \u001b[0ms\u001b[0m \u001b[1;33m=\u001b[0m \u001b[0ms\u001b[0m\u001b[1;33m+\u001b[0m\u001b[0mi\u001b[0m\u001b[1;33m\u001b[0m\u001b[1;33m\u001b[0m\u001b[0m\n\u001b[0;32m      5\u001b[0m     \u001b[0mi\u001b[0m \u001b[1;33m+=\u001b[0m \u001b[1;36m1\u001b[0m\u001b[1;33m\u001b[0m\u001b[1;33m\u001b[0m\u001b[0m\n",
      "\u001b[1;31mNameError\u001b[0m: name 'n' is not defined"
     ]
    }
   ],
   "source": [
    "s = 0\n",
    "i = 1\n",
    "while i <= n:\n",
    "    s = s+i\n",
    "    i += 1"
   ]
  },
  {
   "cell_type": "code",
   "execution_count": 33,
   "id": "40e6905d",
   "metadata": {
    "ExecuteTime": {
     "end_time": "2021-05-25T05:30:36.293736Z",
     "start_time": "2021-05-25T05:30:36.289749Z"
    }
   },
   "outputs": [
    {
     "name": "stdout",
     "output_type": "stream",
     "text": [
      "<class 'str'>\n"
     ]
    }
   ],
   "source": [
    "a = type('abd')\n",
    "print(a)"
   ]
  },
  {
   "cell_type": "code",
   "execution_count": 34,
   "id": "63ab6f56",
   "metadata": {
    "ExecuteTime": {
     "end_time": "2021-05-25T05:53:17.651854Z",
     "start_time": "2021-05-25T05:53:12.240971Z"
    }
   },
   "outputs": [
    {
     "name": "stdout",
     "output_type": "stream",
     "text": [
      "a3\n",
      "b2\n"
     ]
    }
   ],
   "source": [
    "a = int(input('a'))\n",
    "b = int(input('b'))\n",
    "\n",
    "def two_plus():\n",
    "    return a+b"
   ]
  },
  {
   "cell_type": "code",
   "execution_count": 35,
   "id": "2cc938a5",
   "metadata": {
    "ExecuteTime": {
     "end_time": "2021-05-25T05:54:09.329090Z",
     "start_time": "2021-05-25T05:54:06.230859Z"
    }
   },
   "outputs": [
    {
     "name": "stdout",
     "output_type": "stream",
     "text": [
      "a3\n",
      "b2\n"
     ]
    },
    {
     "data": {
      "text/plain": [
       "5"
      ]
     },
     "execution_count": 35,
     "metadata": {},
     "output_type": "execute_result"
    }
   ],
   "source": [
    "a = int(input('a'))\n",
    "b = int(input('b'))\n",
    "\n",
    "def two_plus():\n",
    "    return a+b\n",
    "\n",
    "two_plus()"
   ]
  },
  {
   "cell_type": "code",
   "execution_count": 36,
   "id": "426cabb2",
   "metadata": {
    "ExecuteTime": {
     "end_time": "2021-05-25T05:56:15.176552Z",
     "start_time": "2021-05-25T05:56:13.684416Z"
    }
   },
   "outputs": [
    {
     "name": "stdout",
     "output_type": "stream",
     "text": [
      "a3\n",
      "b2\n"
     ]
    },
    {
     "ename": "TypeError",
     "evalue": "two_plus() takes 0 positional arguments but 2 were given",
     "output_type": "error",
     "traceback": [
      "\u001b[1;31m---------------------------------------------------------------------------\u001b[0m",
      "\u001b[1;31mTypeError\u001b[0m                                 Traceback (most recent call last)",
      "\u001b[1;32m<ipython-input-36-8fcc5c1ceb0e>\u001b[0m in \u001b[0;36m<module>\u001b[1;34m\u001b[0m\n\u001b[0;32m      2\u001b[0m \u001b[0mb\u001b[0m \u001b[1;33m=\u001b[0m \u001b[0mint\u001b[0m\u001b[1;33m(\u001b[0m\u001b[0minput\u001b[0m\u001b[1;33m(\u001b[0m\u001b[1;34m'b'\u001b[0m\u001b[1;33m)\u001b[0m\u001b[1;33m)\u001b[0m\u001b[1;33m\u001b[0m\u001b[1;33m\u001b[0m\u001b[0m\n\u001b[0;32m      3\u001b[0m \u001b[1;33m\u001b[0m\u001b[0m\n\u001b[1;32m----> 4\u001b[1;33m \u001b[0mtwo_plus\u001b[0m\u001b[1;33m(\u001b[0m\u001b[0ma\u001b[0m\u001b[1;33m,\u001b[0m\u001b[0mb\u001b[0m\u001b[1;33m)\u001b[0m\u001b[1;33m\u001b[0m\u001b[1;33m\u001b[0m\u001b[0m\n\u001b[0m",
      "\u001b[1;31mTypeError\u001b[0m: two_plus() takes 0 positional arguments but 2 were given"
     ]
    }
   ],
   "source": [
    "a = int(input('a'))\n",
    "b = int(input('b'))\n",
    "\n",
    "two_plus(a,b)\n"
   ]
  },
  {
   "cell_type": "code",
   "execution_count": 39,
   "id": "3a3312cf",
   "metadata": {
    "ExecuteTime": {
     "end_time": "2021-05-25T05:57:21.196524Z",
     "start_time": "2021-05-25T05:57:21.192526Z"
    }
   },
   "outputs": [],
   "source": [
    "def two_plus(a,b):\n",
    "    return a+b"
   ]
  },
  {
   "cell_type": "code",
   "execution_count": 40,
   "id": "f80b8dca",
   "metadata": {
    "ExecuteTime": {
     "end_time": "2021-05-25T05:57:24.161798Z",
     "start_time": "2021-05-25T05:57:23.332293Z"
    }
   },
   "outputs": [
    {
     "name": "stdout",
     "output_type": "stream",
     "text": [
      "a3\n",
      "b2\n"
     ]
    },
    {
     "data": {
      "text/plain": [
       "5"
      ]
     },
     "execution_count": 40,
     "metadata": {},
     "output_type": "execute_result"
    }
   ],
   "source": [
    "a = int(input('a'))\n",
    "b = int(input('b'))\n",
    "\n",
    "two_plus(a,b)\n",
    "\n",
    "# 함수 괄호안에 변수선언후 그후 변수지정해주면 활용도있게 함수 사용할 수 있음\n",
    "# 함수 만들 때 매개변수 선언 가능\n",
    "# 매개변수 개수는 상관없고 여러개 쓸수있음 3.4같은 것은 인자라고 \n",
    "# 일단 함수를 만들어놓고 매개변수에 따른 함수// 그 후 매개변수를 입력해서 값을 호출해낼 수 있다\n",
    "\n"
   ]
  },
  {
   "cell_type": "code",
   "execution_count": 41,
   "id": "5204dfd3",
   "metadata": {
    "ExecuteTime": {
     "end_time": "2021-05-25T06:42:29.106260Z",
     "start_time": "2021-05-25T06:42:29.101262Z"
    }
   },
   "outputs": [
    {
     "name": "stdout",
     "output_type": "stream",
     "text": [
      "Hello\n"
     ]
    }
   ],
   "source": [
    "greet = \"Hello\"\n",
    "\n",
    "def print_greet():\n",
    "    print(greet)\n",
    "    \n",
    "    \n",
    "print_greet()"
   ]
  },
  {
   "cell_type": "code",
   "execution_count": null,
   "id": "092523a1",
   "metadata": {},
   "outputs": [],
   "source": []
  },
  {
   "cell_type": "code",
   "execution_count": 42,
   "id": "3298ff6a",
   "metadata": {
    "ExecuteTime": {
     "end_time": "2021-05-25T06:42:36.925761Z",
     "start_time": "2021-05-25T06:42:36.919757Z"
    }
   },
   "outputs": [
    {
     "name": "stdout",
     "output_type": "stream",
     "text": [
      "Hello\n"
     ]
    }
   ],
   "source": [
    "greet = \"Hello\"\n",
    "\n",
    "def print_greet():\n",
    "    greet = \"Hello!! world\"\n",
    "    print(greet)\n",
    "    \n",
    "    \n",
    "print_greet()"
   ]
  },
  {
   "cell_type": "code",
   "execution_count": null,
   "id": "209850a1",
   "metadata": {},
   "outputs": [],
   "source": []
  }
 ],
 "metadata": {
  "hide_input": false,
  "kernelspec": {
   "display_name": "Python 3",
   "language": "python",
   "name": "python3"
  },
  "language_info": {
   "codemirror_mode": {
    "name": "ipython",
    "version": 3
   },
   "file_extension": ".py",
   "mimetype": "text/x-python",
   "name": "python",
   "nbconvert_exporter": "python",
   "pygments_lexer": "ipython3",
   "version": "3.7.9"
  },
  "toc": {
   "base_numbering": 1,
   "nav_menu": {},
   "number_sections": true,
   "sideBar": true,
   "skip_h1_title": false,
   "title_cell": "Table of Contents",
   "title_sidebar": "Contents",
   "toc_cell": false,
   "toc_position": {},
   "toc_section_display": true,
   "toc_window_display": false
  },
  "varInspector": {
   "cols": {
    "lenName": 16,
    "lenType": 16,
    "lenVar": 40
   },
   "kernels_config": {
    "python": {
     "delete_cmd_postfix": "",
     "delete_cmd_prefix": "del ",
     "library": "var_list.py",
     "varRefreshCmd": "print(var_dic_list())"
    },
    "r": {
     "delete_cmd_postfix": ") ",
     "delete_cmd_prefix": "rm(",
     "library": "var_list.r",
     "varRefreshCmd": "cat(var_dic_list()) "
    }
   },
   "types_to_exclude": [
    "module",
    "function",
    "builtin_function_or_method",
    "instance",
    "_Feature"
   ],
   "window_display": false
  }
 },
 "nbformat": 4,
 "nbformat_minor": 5
}
